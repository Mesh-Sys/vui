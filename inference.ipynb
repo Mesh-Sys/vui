{
 "cells": [
  {
   "cell_type": "markdown",
   "id": "3b373f3c",
   "metadata": {
    "colab_type": "text",
    "id": "view-in-github"
   },
   "source": [
    "<a href=\"https://colab.research.google.com/github/Mesh-Sys/vui/blob/main/inference.ipynb\" target=\"_parent\"><img src=\"https://colab.research.google.com/assets/colab-badge.svg\" alt=\"Open In Colab\"/></a>"
   ]
  },
  {
   "cell_type": "code",
   "execution_count": 1,
   "id": "fxGBW1OzsYdF",
   "metadata": {
    "colab": {
     "base_uri": "https://localhost:8080/"
    },
    "id": "fxGBW1OzsYdF",
    "outputId": "2b372c11-b2ae-4e29-a588-2f914f4d817d"
   },
   "outputs": [
    {
     "name": "stdout",
     "output_type": "stream",
     "text": [
      "✨🍰✨ Everything looks OK!\n"
     ]
    }
   ],
   "source": [
    "!pip install -q condacolab\n",
    "import condacolab\n",
    "condacolab.install()"
   ]
  },
  {
   "cell_type": "code",
   "execution_count": 3,
   "id": "5quPSxANtxdH",
   "metadata": {
    "colab": {
     "base_uri": "https://localhost:8080/"
    },
    "collapsed": true,
    "id": "5quPSxANtxdH",
    "jupyter": {
     "outputs_hidden": true
    },
    "outputId": "7470a88a-b6fb-4488-dd7f-a4e800cebdb6"
   },
   "outputs": [
    {
     "name": "stdout",
     "output_type": "stream",
     "text": [
      "no change     /usr/local/condabin/conda\n",
      "no change     /usr/local/bin/conda\n",
      "no change     /usr/local/bin/conda-env\n",
      "no change     /usr/local/bin/activate\n",
      "no change     /usr/local/bin/deactivate\n",
      "no change     /usr/local/etc/profile.d/conda.sh\n",
      "no change     /usr/local/etc/fish/conf.d/conda.fish\n",
      "no change     /usr/local/shell/condabin/Conda.psm1\n",
      "no change     /usr/local/shell/condabin/conda-hook.ps1\n",
      "no change     /usr/local/lib/python3.11/site-packages/xontrib/conda.xsh\n",
      "no change     /usr/local/etc/profile.d/conda.csh\n",
      "modified      /root/.bashrc\n",
      "modified      /root/.zshrc\n",
      "modified      /root/.config/fish/config.fish\n",
      "modified      /root/.xonshrc\n",
      "modified      /root/.tcshrc\n",
      "\n",
      "==> For changes to take effect, close and re-open your current shell. <==\n",
      "\n"
     ]
    }
   ],
   "source": [
    "!conda init --all\n",
    "!conda create -n vui python==3.12.3"
   ]
  },
  {
   "cell_type": "code",
   "execution_count": 5,
   "id": "e9MN3DpbuCuZ",
   "metadata": {
    "id": "e9MN3DpbuCuZ"
   },
   "outputs": [],
   "source": [
    "!mv $(which python) $(which python).bak\n",
    "!mv $(which python3) $(which python3).bak\n",
    "#!mv $(which pip) $(which pip).bak\n",
    "#!mv $(which pip3) $(which pip3).bak\n",
    "!ln -s /usr/local/envs/vui/bin/python /usr/local/bin/python\n",
    "!ln -s /usr/local/envs/vui/bin/python3 /usr/local/bin/python3\n",
    "#!ln -s /usr/local/envs/vui/bin/pip /usr/local/bin/pip\n",
    "#!ln -s /usr/local/envs/vui/bin/pip3 /usr/local/bin/pip3"
   ]
  },
  {
   "cell_type": "markdown",
   "id": "P-KgQLb0uEaA",
   "metadata": {
    "id": "P-KgQLb0uEaA"
   },
   "source": [
    "Restart session"
   ]
  },
  {
   "cell_type": "code",
   "execution_count": null,
   "id": "iA9uwR6dw7E2",
   "metadata": {
    "id": "iA9uwR6dw7E2"
   },
   "outputs": [],
   "source": [
    "!git clone https://github.com/Mesh-Sys/vui.git\n",
    "%cd vui"
   ]
  },
  {
   "cell_type": "code",
   "execution_count": null,
   "id": "90acc09f-568c-4ecf-bb77-3c76e6388540",
   "metadata": {},
   "outputs": [],
   "source": [
    "!pip install einops==0.8.1 inflect==7.5.0 gradio==5.33.0 numba==0.61.2 numpy>=1.24.0 openai-whisper>=20231117 pydantic==2.11.5 pyannote.audio==3.3.2 soundfile==0.13.1 tiktoken==0.9.0 torch==2.7.1 torchaudio==2.7.1 torchvision==0.22.1 transformers==4.52.4 ipython setuptools"
   ]
  },
  {
   "cell_type": "code",
   "execution_count": null,
   "id": "55c5501a-f35f-4f74-b7c9-e83b2e19b1df",
   "metadata": {},
   "outputs": [],
   "source": [
    "import os\n",
    "os.environ[\"HF_TOKEN\"] = \"hf_\"\n",
    "print(os.getenv(\"HF_TOKEN\"))"
   ]
  },
  {
   "cell_type": "code",
   "execution_count": null,
   "id": "0",
   "metadata": {
    "id": "0"
   },
   "outputs": [],
   "source": [
    "import torch\n",
    "import time\n",
    "import torchaudio\n",
    "\n",
    "from vui.model import Vui\n",
    "from vui.notebook import play\n",
    "from vui.fluac import Fluac\n",
    "from vui.inference import render as generate\n",
    "\n",
    "model = Vui.from_pretrained_inf(Vui.ABRAHAM).cuda()\n",
    "#model.decoder = torch.compile(model.decoder, fullgraph=True, mode=\"reduce-overhead\")"
   ]
  },
  {
   "cell_type": "code",
   "execution_count": null,
   "id": "1",
   "metadata": {
    "id": "1"
   },
   "outputs": [],
   "source": [
    "short_samples = [\"\"\"Welcome to Fluxions, the podcast where... we uh explore how technology is shaping the world around us. I'm your host, Alex.\n",
    "[breath] And I'm Jamie um [laugh] today, we’re diving into a [hesitate] topic that’s transforming customer service uh voice technology for agents.\n",
    "That’s right. We’re [hesitate] talking about the AI-driven tools that are making those long, frustrating customer service calls a little more bearable, for both the customer and the agents.\n",
    "\"\"\"]\n",
    "\n",
    "radio = \"\"\"Um, hey Sarah, so I just left the meeting with the, uh, rabbit focus group and they are absolutely loving the new heritage carrots! Like, I've never seen such enthusiastic thumping in my life! The purple ones are testing through the roof - apparently the flavor profile is just amazing - and they're willing to pay a premium for them! We need to, like, triple production on those immediately and maybe consider a subscription model? Anyway, gotta go, but let's touch base tomorrow about scaling this before the Easter rush hits!\"\"\"\n",
    "short_samples.append(radio)\n",
    "short_samples.append(\"\"\"What an absolute joke, like I'm really not enjoying this situation where I'm just forced to say things.\"\"\")\n",
    "short_samples.append(\"\"\" So [breath] I don't know if you've been there [breath] but I'm really pissed off.\n",
    "Oh no! Why, what happened?\n",
    "Well I went to this cafe hearth, and they gave me the worst toastie I've ever had, it didn't come with salad it was just raw.\n",
    "Well that's awful what kind of toastie was it?\n",
    "It was supposed to be a chicken bacon lettuce tomatoe, but it was fucking shite, like really bad and I honestly would have preferred to eat my own shit.\n",
    "[laugh] well, it must have been awful for you, I'm sorry to hear that, why don't we move on to brighter topics, like the good old weather?\n",
    "\"\"\")\n",
    "\n",
    "temperature = .5\n",
    "top_p = None\n",
    "top_k = 100\n",
    "short_samples.reverse()\n",
    "sr = model.codec.config.sample_rate\n",
    "\n",
    "for chunk in short_samples:\n",
    "    text=f\"{chunk.strip()}\"\n",
    "    print(text)\n",
    "\n",
    "    t1 = time.perf_counter()\n",
    "    waveform = generate(\n",
    "        model,\n",
    "        text,\n",
    "        temperature=temperature,\n",
    "        top_k=top_k,\n",
    "        top_p=top_p,\n",
    "    )\n",
    "    print(waveform.shape[-1]/(sr*(time.perf_counter()-t1)), \"x\")\n",
    "    print(waveform.shape)\n",
    "    print(\"total time\", time.perf_counter() - t1)\n",
    "\n",
    "    sample_rate = 22050\n",
    "    waveform = waveform[...,: -4000]\n",
    "    play(waveform.flatten().cpu(), sr, False)\n",
    "    # out_path = f\"{temperature=}-{top_p=}-{top_k=}-{guidance_scale=}-{int(time.time())}.mp3\"\n",
    "    # print(f\"Saved to {out_path}\")\n",
    "    # torchaudio.save(out_path, waveform, sample_rate)"
   ]
  },
  {
   "cell_type": "code",
   "execution_count": null,
   "id": "03bb54a4-b1e9-4d81-8e2f-d63cb09711b8",
   "metadata": {},
   "outputs": [],
   "source": [
    "!python demo.py"
   ]
  }
 ],
 "metadata": {
  "accelerator": "GPU",
  "colab": {
   "gpuType": "T4",
   "include_colab_link": true,
   "provenance": []
  },
  "kernelspec": {
   "display_name": "Python 3 (ipykernel)",
   "language": "python",
   "name": "python3"
  },
  "language_info": {
   "codemirror_mode": {
    "name": "ipython",
    "version": 3
   },
   "file_extension": ".py",
   "mimetype": "text/x-python",
   "name": "python",
   "nbconvert_exporter": "python",
   "pygments_lexer": "ipython3",
   "version": "3.12.2"
  }
 },
 "nbformat": 4,
 "nbformat_minor": 5
}
