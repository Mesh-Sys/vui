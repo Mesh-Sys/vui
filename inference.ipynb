{
  "cells": [
    {
      "cell_type": "markdown",
      "metadata": {
        "id": "view-in-github",
        "colab_type": "text"
      },
      "source": [
        "<a href=\"https://colab.research.google.com/github/Mesh-Sys/vui/blob/main/inference.ipynb\" target=\"_parent\"><img src=\"https://colab.research.google.com/assets/colab-badge.svg\" alt=\"Open In Colab\"/></a>"
      ]
    },
    {
      "cell_type": "code",
      "source": [
        "!pip install -q condacolab\n",
        "import condacolab\n",
        "condacolab.install()"
      ],
      "metadata": {
        "id": "fxGBW1OzsYdF"
      },
      "id": "fxGBW1OzsYdF",
      "execution_count": null,
      "outputs": []
    },
    {
      "cell_type": "code",
      "source": [
        "!conda init --all\n",
        "!conda create -n vui python==3.12.3"
      ],
      "metadata": {
        "collapsed": true,
        "id": "5quPSxANtxdH"
      },
      "id": "5quPSxANtxdH",
      "execution_count": null,
      "outputs": []
    },
    {
      "cell_type": "code",
      "source": [
        "!mv $(which python) $(which python).bak\n",
        "!mv $(which python3) $(which python3).bak\n",
        "!mv $(which pip) $(which pip).bak\n",
        "!mv $(which pip3) $(which pip3).bak\n",
        "!ln -s /usr/local/envs/vui/bin/python /usr/local/bin/python\n",
        "!ln -s /usr/local/envs/vui/bin/python3 /usr/local/bin/python3\n",
        "!ln -s /usr/local/envs/vui/bin/pip /usr/local/bin/pip\n",
        "!ln -s /usr/local/envs/vui/bin/pip3 /usr/local/bin/pip3"
      ],
      "metadata": {
        "id": "e9MN3DpbuCuZ"
      },
      "id": "e9MN3DpbuCuZ",
      "execution_count": null,
      "outputs": []
    },
    {
      "cell_type": "markdown",
      "source": [
        "Restart session"
      ],
      "metadata": {
        "id": "P-KgQLb0uEaA"
      },
      "id": "P-KgQLb0uEaA"
    },
    {
      "cell_type": "code",
      "source": [
        "!git clone https://github.com/Mesh-Sys/vui.git\n",
        "%cd vui"
      ],
      "metadata": {
        "id": "iA9uwR6dw7E2"
      },
      "id": "iA9uwR6dw7E2",
      "execution_count": null,
      "outputs": []
    },
    {
      "cell_type": "code",
      "source": [
        "!pip install einops==0.8.1 inflect==7.5.0 gradio==5.33.0 numba==0.61.2 numpy>=1.24.0 openai-whisper>=20231117 pydantic==2.11.5 pyannote.audio==3.3.2 soundfile==0.13.1 tiktoken==0.9.0 torch==2.7.1 torchaudio==2.7.1 torchvision==0.22.1 transformers==4.52.4"
      ],
      "metadata": {
        "id": "h7ed-S6MGNDb"
      },
      "id": "h7ed-S6MGNDb",
      "execution_count": null,
      "outputs": []
    },
    {
      "cell_type": "code",
      "execution_count": null,
      "id": "0",
      "metadata": {
        "id": "0"
      },
      "outputs": [],
      "source": [
        "import sys\n",
        "sys.path.append(\"/usr/local/envs/vui/lib/python3.12/site-packages/\")\n",
        "import torch\n",
        "import time\n",
        "import torchaudio\n",
        "\n",
        "'''from vui'''\n",
        "from vui.model import Vui\n",
        "from vui.notebook import play\n",
        "from vui.fluac import Fluac\n",
        "from vui.inference import render as generate\n",
        "\n",
        "#model = Vui.from_pretrained_inf(Vui.ABRAHAM).cuda()\n",
        "model = Vui.from_pretrained_inf(Vui.ABRAHAM).cpu()\n",
        "model.decoder = torch.compile(model.decoder, fullgraph=True, mode=\"reduce-overhead\")"
      ]
    },
    {
      "cell_type": "code",
      "execution_count": null,
      "id": "1",
      "metadata": {
        "id": "1"
      },
      "outputs": [],
      "source": [
        "short_samples = [\"\"\"Welcome to Fluxions, the podcast where... we uh explore how technology is shaping the world around us. I'm your host, Alex.\n",
        "[breath] And I'm Jamie um [laugh] today, we’re diving into a [hesitate] topic that’s transforming customer service uh voice technology for agents.\n",
        "That’s right. We’re [hesitate] talking about the AI-driven tools that are making those long, frustrating customer service calls a little more bearable, for both the customer and the agents.\n",
        "\"\"\"]\n",
        "\n",
        "radio = \"\"\"Um, hey Sarah, so I just left the meeting with the, uh, rabbit focus group and they are absolutely loving the new heritage carrots! Like, I've never seen such enthusiastic thumping in my life! The purple ones are testing through the roof - apparently the flavor profile is just amazing - and they're willing to pay a premium for them! We need to, like, triple production on those immediately and maybe consider a subscription model? Anyway, gotta go, but let's touch base tomorrow about scaling this before the Easter rush hits!\"\"\"\n",
        "short_samples.append(radio)\n",
        "short_samples.append(\"\"\"What an absolute joke, like I'm really not enjoying this situation where I'm just forced to say things.\"\"\")\n",
        "short_samples.append(\"\"\" So [breath] I don't know if you've been there [breath] but I'm really pissed off.\n",
        "Oh no! Why, what happened?\n",
        "Well I went to this cafe hearth, and they gave me the worst toastie I've ever had, it didn't come with salad it was just raw.\n",
        "Well that's awful what kind of toastie was it?\n",
        "It was supposed to be a chicken bacon lettuce tomatoe, but it was fucking shite, like really bad and I honestly would have preferred to eat my own shit.\n",
        "[laugh] well, it must have been awful for you, I'm sorry to hear that, why don't we move on to brighter topics, like the good old weather?\n",
        "\"\"\")\n",
        "\n",
        "torch._dynamo.config.suppress_errors = True\n",
        "\n",
        "temperature = .5\n",
        "top_p = None\n",
        "top_k = 100\n",
        "short_samples.reverse()\n",
        "sr = model.codec.config.sample_rate\n",
        "\n",
        "for chunk in short_samples:\n",
        "    text=f\"{chunk.strip()}\"\n",
        "    print(text)\n",
        "\n",
        "    t1 = time.perf_counter()\n",
        "    waveform = generate(\n",
        "        model,\n",
        "           text,\n",
        "        temperature=temperature,\n",
        "        top_k=top_k,\n",
        "        top_p=top_p,\n",
        "    )\n",
        "    print(waveform.shape[-1]/(sr*(time.perf_counter()-t1)), \"x\")\n",
        "    print(waveform.shape)\n",
        "    print(\"total time\", time.perf_counter() - t1)\n",
        "\n",
        "    sample_rate = 22050\n",
        "    waveform = waveform[...,: -4000]\n",
        "    play(waveform.flatten().cpu(), sr, False)\n",
        "    # out_path = f\"{temperature=}-{top_p=}-{top_k=}-{guidance_scale=}-{int(time.time())}.mp3\"\n",
        "    # print(f\"Saved to {out_path}\")\n",
        "    # torchaudio.save(out_path, waveform, sample_rate)"
      ]
    }
  ],
  "metadata": {
    "kernelspec": {
      "display_name": "Python 3",
      "name": "python3"
    },
    "language_info": {
      "codemirror_mode": {
        "name": "ipython",
        "version": 3
      },
      "file_extension": ".py",
      "mimetype": "text/x-python",
      "name": "python",
      "nbconvert_exporter": "python",
      "pygments_lexer": "ipython3",
      "version": "3.12.7"
    },
    "colab": {
      "provenance": [],
      "gpuType": "T4",
      "include_colab_link": true
    },
    "accelerator": "GPU"
  },
  "nbformat": 4,
  "nbformat_minor": 5
}